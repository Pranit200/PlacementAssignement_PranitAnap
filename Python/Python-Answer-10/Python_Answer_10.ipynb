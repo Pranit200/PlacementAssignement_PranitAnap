{
  "nbformat": 4,
  "nbformat_minor": 0,
  "metadata": {
    "colab": {
      "provenance": []
    },
    "kernelspec": {
      "name": "python3",
      "display_name": "Python 3"
    },
    "language_info": {
      "name": "python"
    }
  },
  "cells": [
    {
      "cell_type": "markdown",
      "source": [
        "# Python\n",
        "\n",
        "\n",
        "## Answer 10"
      ],
      "metadata": {
        "id": "gzaGif49lpcH"
      }
    },
    {
      "cell_type": "code",
      "source": [
        "import spacy\n",
        "\n",
        "def count_pos(phrase):\n",
        "    # Load the English language model in spacy\n",
        "    nlp = spacy.load('en_core_web_sm')\n",
        "\n",
        "    # Process the input phrase using spacy\n",
        "    doc = nlp(phrase)\n",
        "\n",
        "    # Initialize counts\n",
        "    verb_count = 0\n",
        "    noun_count = 0\n",
        "    pronoun_count = 0\n",
        "    adjective_count = 0\n",
        "\n",
        "    # Iterate over each token in the processed doc\n",
        "    for token in doc:\n",
        "        # Check the POS tag of the token\n",
        "        if token.pos_ == 'VERB':\n",
        "            verb_count += 1\n",
        "        elif token.pos_ == 'NOUN':\n",
        "            noun_count += 1\n",
        "        elif token.pos_ == 'PRON':\n",
        "            pronoun_count += 1\n",
        "        elif token.pos_ == 'ADJ':\n",
        "            adjective_count += 1\n",
        "\n",
        "    # Create a dictionary with the counts\n",
        "    pos_counts = {\n",
        "        'Verbs': verb_count,\n",
        "        'Nouns': noun_count,\n",
        "        'Pronouns': pronoun_count,\n",
        "        'Adjectives': adjective_count\n",
        "    }\n",
        "\n",
        "    return pos_counts"
      ],
      "metadata": {
        "id": "YRdCwrFcQsE-"
      },
      "execution_count": 1,
      "outputs": []
    },
    {
      "cell_type": "code",
      "source": [
        "# Test case 1\n",
        "phrase1 = \"The quick brown fox jumps over the lazy dog.\"\n",
        "pos_counts1 = count_pos(phrase1)\n",
        "print(pos_counts1)\n",
        "# Output: {'Verbs': 1, 'Nouns': 2, 'Pronouns': 0, 'Adjectives': 3}"
      ],
      "metadata": {
        "colab": {
          "base_uri": "https://localhost:8080/"
        },
        "id": "96L02R5ib8Xc",
        "outputId": "277e9c11-3d9f-4422-b51e-fb987cbde8f1"
      },
      "execution_count": 4,
      "outputs": [
        {
          "output_type": "stream",
          "name": "stdout",
          "text": [
            "{'Verbs': 1, 'Nouns': 2, 'Pronouns': 0, 'Adjectives': 3}\n"
          ]
        }
      ]
    },
    {
      "cell_type": "code",
      "source": [
        "# Test case 2\n",
        "phrase2 = \"The future of AI is expected to be transformative and full of exciting advancements across various fields.\"\n",
        "pos_counts2 = count_pos(phrase2)\n",
        "print(pos_counts2)\n",
        "# Output: {'Verbs': 1, 'Nouns': 3, 'Pronouns': 0, 'Adjectives': 4}"
      ],
      "metadata": {
        "colab": {
          "base_uri": "https://localhost:8080/"
        },
        "id": "jMQ0usW8cxzr",
        "outputId": "d16644ce-5a64-4a91-de9f-1685813c6633"
      },
      "execution_count": 3,
      "outputs": [
        {
          "output_type": "stream",
          "name": "stdout",
          "text": [
            "{'Verbs': 1, 'Nouns': 3, 'Pronouns': 0, 'Adjectives': 4}\n"
          ]
        }
      ]
    }
  ]
}