{
  "nbformat": 4,
  "nbformat_minor": 0,
  "metadata": {
    "colab": {
      "provenance": []
    },
    "kernelspec": {
      "name": "python3",
      "display_name": "Python 3"
    },
    "language_info": {
      "name": "python"
    }
  },
  "cells": [
    {
      "cell_type": "markdown",
      "source": [
        "# Python"
      ],
      "metadata": {
        "id": "gzaGif49lpcH"
      }
    },
    {
      "cell_type": "markdown",
      "source": [
        "## Answer 1"
      ],
      "metadata": {
        "id": "FM77u1uolpos"
      }
    },
    {
      "cell_type": "code",
      "execution_count": 10,
      "metadata": {
        "id": "lcXDRmDUlW7c"
      },
      "outputs": [],
      "source": [
        "# Correct\n",
        "def find_length_of_words_with_highest_frequency(input_string):\n",
        "    # Remove the special characters from the string.\n",
        "    string = ''.join(e for e in input_string if e.isalnum() or e.isspace())\n",
        "    # Convert the string to lowercase\n",
        "    string = string.lower()\n",
        "    \n",
        "    # Now splitting the string into words\n",
        "    words = string.split()\n",
        "    \n",
        "    # Count the frequency of each word\n",
        "    word_frequency = {}\n",
        "    for i in words:\n",
        "        if i in word_frequency:\n",
        "            word_frequency[i] += 1\n",
        "        else:\n",
        "            word_frequency[i] = 1\n",
        "    \n",
        "    # Find the highest frequency\n",
        "    highest_frequency = max(word_frequency.values())\n",
        "    \n",
        "    # Find the length of the word having highest frequency\n",
        "    highest_frequency_word= [word for word, frequency in word_frequency.items() if frequency == highest_frequency]\n",
        "    highest_frequency_word_length = max(len(word) for word in highest_frequency_word)\n",
        "\n",
        "    return highest_frequency_word_length"
      ]
    },
    {
      "cell_type": "code",
      "source": [
        "#Test Case 1:-\n",
        "\n",
        "input_str = 'I am data science learner and i had written this code for my first assinement.'\n",
        "'''\n",
        "Output - 1\n",
        "Explanation - From the given string we can note that the most frequent word are “i”  and its corresponding length is 1\n",
        "'''\n",
        "# Checking the function\n",
        "word_lengths = find_length_of_words_with_highest_frequency(input_str)\n",
        "print(f\"Length of the highest-frequency word:\", word_lengths)"
      ],
      "metadata": {
        "colab": {
          "base_uri": "https://localhost:8080/"
        },
        "id": "YKy7NamqqCfH",
        "outputId": "5d1c3522-c01d-4068-94d1-e925e2d3440d"
      },
      "execution_count": 14,
      "outputs": [
        {
          "output_type": "stream",
          "name": "stdout",
          "text": [
            "Length of the highest-frequency word: 1\n"
          ]
        }
      ]
    },
    {
      "cell_type": "code",
      "source": [
        "#Test Case 2:-\n",
        "'''\n",
        " Output - 4\n",
        " Explanation - From the given string we can note that the most frequent word is “find” and its corresponding length is 4\n",
        "'''\n",
        "input_str = \"this program find the highest frequency word and then find its length\"\n",
        "# Checking the function\n",
        "word_lengths = find_length_of_words_with_highest_frequency(input_str)\n",
        "print(f\"Length of the highest-frequency word:\", word_lengths)"
      ],
      "metadata": {
        "colab": {
          "base_uri": "https://localhost:8080/"
        },
        "id": "VDe331IXrDet",
        "outputId": "6168bb6a-8a0e-40c4-e43a-9a41162f66e1"
      },
      "execution_count": 17,
      "outputs": [
        {
          "output_type": "stream",
          "name": "stdout",
          "text": [
            "Length of the highest-frequency word: 4\n"
          ]
        }
      ]
    }
  ]
}