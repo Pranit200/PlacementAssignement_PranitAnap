{
  "nbformat": 4,
  "nbformat_minor": 0,
  "metadata": {
    "colab": {
      "provenance": []
    },
    "kernelspec": {
      "name": "python3",
      "display_name": "Python 3"
    },
    "language_info": {
      "name": "python"
    }
  },
  "cells": [
    {
      "cell_type": "markdown",
      "source": [
        "# Python"
      ],
      "metadata": {
        "id": "gzaGif49lpcH"
      }
    },
    {
      "cell_type": "markdown",
      "source": [
        "## Answer 2"
      ],
      "metadata": {
        "id": "FM77u1uolpos"
      }
    },
    {
      "cell_type": "code",
      "execution_count": 21,
      "metadata": {
        "id": "lcXDRmDUlW7c"
      },
      "outputs": [],
      "source": [
        "# Correct\n",
        "from collections import Counter\n",
        "\n",
        "def is_the_string_valid(input_string):\n",
        "    # Now count the frequency of the each character\n",
        "    count = Counter(input_string)\n",
        "\n",
        "    # Check if all characters have the same frequency\n",
        "    if len(set(count.values())) == 1:\n",
        "        return \"YES\"\n",
        "\n",
        "    # Check if we can remove one character to make all characters have the same frequency\n",
        "    for char in count:\n",
        "        count[char] -= 1\n",
        "        new_count = Counter(count.values())\n",
        "        if len(new_count) == 1:\n",
        "            return \"YES\"\n",
        "        count[char] += 1\n",
        "\n",
        "    # The string is not valid\n",
        "    return \"NO\""
      ]
    },
    {
      "cell_type": "code",
      "source": [
        "#Test Case 1:-\n",
        "\n",
        "'''\n",
        "#Example input 1 - s = “Pranit”. This is a valid string because frequencies are { “P”: 1, “r”: 1, “a”: 1 , “n”: 1 , “i”: 1 , “t”: 1 }\n",
        "\n",
        "#Example output 1- YES\n",
        "'''\n",
        "is_the_string_valid(\"Pranit\")"
      ],
      "metadata": {
        "colab": {
          "base_uri": "https://localhost:8080/",
          "height": 36
        },
        "id": "YKy7NamqqCfH",
        "outputId": "5f91183a-6989-40de-967a-4e67c47df39b"
      },
      "execution_count": 22,
      "outputs": [
        {
          "output_type": "execute_result",
          "data": {
            "text/plain": [
              "'YES'"
            ],
            "application/vnd.google.colaboratory.intrinsic+json": {
              "type": "string"
            }
          },
          "metadata": {},
          "execution_count": 22
        }
      ]
    },
    {
      "cell_type": "code",
      "source": [
        "#Test Case 2:-\n",
        "'''\n",
        " \n",
        "#Example input 2 - s “Coffee”. This string is not valid as we can remove only 1 occurrence. That leaves character frequencies of { “C”: 1, “o”: 1, “f”: 2 , “e”: 2 }\n",
        "\n",
        "#Example output 2 - NO\n",
        "\n",
        "'''\n",
        "\n",
        "print(is_the_string_valid(\"Coffee\")) \n"
      ],
      "metadata": {
        "colab": {
          "base_uri": "https://localhost:8080/"
        },
        "id": "VDe331IXrDet",
        "outputId": "ae16a286-d2a1-4607-94d2-0e9f67947cc1"
      },
      "execution_count": 23,
      "outputs": [
        {
          "output_type": "stream",
          "name": "stdout",
          "text": [
            "NO\n"
          ]
        }
      ]
    }
  ]
}