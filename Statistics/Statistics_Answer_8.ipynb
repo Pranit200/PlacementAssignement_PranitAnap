{
  "nbformat": 4,
  "nbformat_minor": 0,
  "metadata": {
    "colab": {
      "provenance": []
    },
    "kernelspec": {
      "name": "python3",
      "display_name": "Python 3"
    },
    "language_info": {
      "name": "python"
    }
  },
  "cells": [
    {
      "cell_type": "markdown",
      "source": [
        "# Statistics\n",
        "\n",
        "## Answer 8"
      ],
      "metadata": {
        "id": "gzaGif49lpcH"
      }
    },
    {
      "cell_type": "code",
      "source": [
        "import pandas as pd\n",
        "from scipy.stats import wilcoxon"
      ],
      "metadata": {
        "id": "JOhwqVXmMkZg"
      },
      "execution_count": 4,
      "outputs": []
    },
    {
      "cell_type": "code",
      "source": [
        "# Creating the DataFrame from the given dataset\n",
        "data = {\n",
        "    'Participant': [1, 2, 3, 4, 5,6,7,8,9,10],\n",
        "    'Before therapy': [10, 8, 12, 15, 6,9,11,7,14,10],\n",
        "    'After therapy': [7, 6, 10, 12, 5,8,9,6,12,8],\n",
        "    'Difference': [-3, -2, -2, -3, -1,-1,-2,-1,-2,-2]\n",
        "}\n",
        "df = pd.DataFrame(data)"
      ],
      "metadata": {
        "id": "efQThs0rfZKT"
      },
      "execution_count": 5,
      "outputs": []
    },
    {
      "cell_type": "code",
      "source": [
        "# Perform Wilcoxon signed-rank test\n",
        "statistic, p_value = wilcoxon(df['Difference'])\n",
        "\n",
        "# Print the results\n",
        "print(\"Wilcoxon Signed-Rank Test:\")\n",
        "print(\"Test Statistic:\", statistic)\n",
        "print(\"p-value:\", p_value)\n",
        "\n",
        "# Interpretation\n",
        "alpha = 0.05\n",
        "if p_value < alpha:\n",
        "    print(\"The therapy had a significant effect on anxiety levels.\")\n",
        "else:\n",
        "    print(\"The therapy did not have a significant effect on anxiety levels.\")\n"
      ],
      "metadata": {
        "colab": {
          "base_uri": "https://localhost:8080/"
        },
        "id": "PqM2mnGbfcky",
        "outputId": "a543e1d3-19d3-44fb-ddc4-8900933d3257"
      },
      "execution_count": 6,
      "outputs": [
        {
          "output_type": "stream",
          "name": "stdout",
          "text": [
            "Wilcoxon Signed-Rank Test:\n",
            "Test Statistic: 0.0\n",
            "p-value: 0.001953125\n",
            "The therapy had a significant effect on anxiety levels.\n"
          ]
        }
      ]
    }
  ]
}