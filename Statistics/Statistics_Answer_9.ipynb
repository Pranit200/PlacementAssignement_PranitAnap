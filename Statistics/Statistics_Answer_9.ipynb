{
  "nbformat": 4,
  "nbformat_minor": 0,
  "metadata": {
    "colab": {
      "provenance": []
    },
    "kernelspec": {
      "name": "python3",
      "display_name": "Python 3"
    },
    "language_info": {
      "name": "python"
    }
  },
  "cells": [
    {
      "cell_type": "markdown",
      "source": [
        "# Statistics\n",
        "\n",
        "## Answer 9"
      ],
      "metadata": {
        "id": "gzaGif49lpcH"
      }
    },
    {
      "cell_type": "code",
      "source": [
        "import pandas as pd\n",
        "import numpy as np\n",
        "from scipy.stats import f_oneway"
      ],
      "metadata": {
        "id": "JOhwqVXmMkZg"
      },
      "execution_count": 10,
      "outputs": []
    },
    {
      "cell_type": "code",
      "source": [
        "# Dataset\n",
        "dataset = {\n",
        "    'karan': [85, 90, 92],\n",
        "    'deepa': [70, 80, 85],\n",
        "    'karthik': [90, 85, 88],\n",
        "    'chandan': [75, 70, 75],\n",
        "    'jeevan': [95, 92, 96]\n",
        "}"
      ],
      "metadata": {
        "id": "Cdp8KWXfgFjM"
      },
      "execution_count": 8,
      "outputs": []
    },
    {
      "cell_type": "code",
      "source": [
        "# Calculating mean scores\n",
        "mean_scores = {name: np.mean(scores) for name, scores in dataset.items()}"
      ],
      "metadata": {
        "id": "1Oe2YrXIgN5b"
      },
      "execution_count": 11,
      "outputs": []
    },
    {
      "cell_type": "code",
      "source": [
        "# Performing one-way ANOVA test\n",
        "scores = [scores for scores in dataset.values()]\n",
        "f_statistic, p_value = f_oneway(*scores)"
      ],
      "metadata": {
        "id": "PD6th-AmgRhG"
      },
      "execution_count": 12,
      "outputs": []
    },
    {
      "cell_type": "code",
      "source": [
        "# Printing mean scores\n",
        "print(\"Mean Scores:\")\n",
        "for name, score in mean_scores.items():\n",
        "    print(f\"{name}: {score}\")\n",
        "\n",
        "# Printing test results\n",
        "print(\"\\nHypothesis Test:\")\n",
        "if p_value < 0.05:\n",
        "    print(\"The mean scores of the students are not the same.\")\n",
        "    student_with_highest_score = max(mean_scores, key=mean_scores.get)\n",
        "    print(f\"The student with the highest score is: {student_with_highest_score}\")\n",
        "else:\n",
        "    print(\"The mean scores of the students are the same.\")\n"
      ],
      "metadata": {
        "colab": {
          "base_uri": "https://localhost:8080/"
        },
        "id": "ahnIPGo-gRjm",
        "outputId": "967ef42a-b23c-4ca0-d6bb-f0b1eed06725"
      },
      "execution_count": 13,
      "outputs": [
        {
          "output_type": "stream",
          "name": "stdout",
          "text": [
            "Mean Scores:\n",
            "karan: 89.0\n",
            "deepa: 78.33333333333333\n",
            "karthik: 87.66666666666667\n",
            "chandan: 73.33333333333333\n",
            "jeevan: 94.33333333333333\n",
            "\n",
            "Hypothesis Test:\n",
            "The mean scores of the students are not the same.\n",
            "The student with the highest score is: jeevan\n"
          ]
        }
      ]
    },
    {
      "cell_type": "code",
      "source": [],
      "metadata": {
        "id": "xE6GbmD1gRnG"
      },
      "execution_count": null,
      "outputs": []
    }
  ]
}