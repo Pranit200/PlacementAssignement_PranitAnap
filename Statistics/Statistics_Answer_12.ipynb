{
  "nbformat": 4,
  "nbformat_minor": 0,
  "metadata": {
    "colab": {
      "provenance": []
    },
    "kernelspec": {
      "name": "python3",
      "display_name": "Python 3"
    },
    "language_info": {
      "name": "python"
    }
  },
  "cells": [
    {
      "cell_type": "markdown",
      "source": [
        "# Statistics\n",
        "\n",
        "## Answer 12"
      ],
      "metadata": {
        "id": "gzaGif49lpcH"
      }
    },
    {
      "cell_type": "code",
      "source": [
        "import scipy.stats as stats\n",
        "import pandas as pd"
      ],
      "metadata": {
        "id": "JOhwqVXmMkZg"
      },
      "execution_count": 1,
      "outputs": []
    },
    {
      "cell_type": "code",
      "source": [
        "## Defining the data for Group A and Group B\n",
        "group_a_mean = 2.5\n",
        "group_a_std = 0.8\n",
        "group_a_n = 30\n",
        "\n",
        "group_b_mean = 2.2\n",
        "group_b_std = 0.6\n",
        "group_b_n = 30"
      ],
      "metadata": {
        "id": "Y4cuEdAEUvaC"
      },
      "execution_count": 16,
      "outputs": []
    },
    {
      "cell_type": "code",
      "source": [
        "#Performing independent two-sample t-test\n",
        "t_stat, p_value = stats.ttest_ind_from_stats(\n",
        "    mean1=group_a_mean, std1=group_a_std, nobs1=group_a_n,\n",
        "    mean2=group_b_mean, std2=group_b_std, nobs2=group_b_n\n",
        ")"
      ],
      "metadata": {
        "id": "NZexSQhzUvcC"
      },
      "execution_count": 17,
      "outputs": []
    },
    {
      "cell_type": "code",
      "source": [
        "# Printing the t-statistic and p-value\n",
        "print(\"t-statistic:\", t_stat)\n",
        "print(\"p-value:\", p_value)"
      ],
      "metadata": {
        "colab": {
          "base_uri": "https://localhost:8080/"
        },
        "id": "F7jVDqihUvfu",
        "outputId": "385e4662-5b8b-4671-860a-2b0379fb7ef8"
      },
      "execution_count": 18,
      "outputs": [
        {
          "output_type": "stream",
          "name": "stdout",
          "text": [
            "t-statistic: 1.6431676725154976\n",
            "p-value: 0.10575916705583671\n"
          ]
        }
      ]
    },
    {
      "cell_type": "code",
      "source": [
        "# Checking for significance at alpha = 0.05\n",
        "alpha = 0.05\n",
        "if p_value < alpha:\n",
        "    print(\"Reject the null hypothesis\")\n",
        "else:\n",
        "    print(\"Fail to reject the null hypothesis\")"
      ],
      "metadata": {
        "colab": {
          "base_uri": "https://localhost:8080/"
        },
        "id": "2XYzQEJHUvix",
        "outputId": "b52fbd52-eff1-4f4f-86c1-3475c9a1f7f5"
      },
      "execution_count": 19,
      "outputs": [
        {
          "output_type": "stream",
          "name": "stdout",
          "text": [
            "Fail to reject the null hypothesis\n"
          ]
        }
      ]
    },
    {
      "cell_type": "markdown",
      "source": [
        "In this case, the p-value is 0.105, which is greater than the significance level of 0.05. Therefore, we fail to reject the null hypothesis. This means that there is not enough evidence to conclude that there is a significant difference in the mean improvement scores between Group A and Group B."
      ],
      "metadata": {
        "id": "oQ1xs6bEVAV2"
      }
    }
  ]
}