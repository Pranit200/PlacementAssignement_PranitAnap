{
  "nbformat": 4,
  "nbformat_minor": 0,
  "metadata": {
    "colab": {
      "provenance": []
    },
    "kernelspec": {
      "name": "python3",
      "display_name": "Python 3"
    },
    "language_info": {
      "name": "python"
    }
  },
  "cells": [
    {
      "cell_type": "markdown",
      "source": [
        "# Statistics\n",
        "\n",
        "## Answer 6"
      ],
      "metadata": {
        "id": "gzaGif49lpcH"
      }
    },
    {
      "cell_type": "code",
      "source": [
        "import pandas as pd\n",
        "from scipy.stats import shapiro"
      ],
      "metadata": {
        "id": "JOhwqVXmMkZg"
      },
      "execution_count": 1,
      "outputs": []
    },
    {
      "cell_type": "code",
      "source": [
        "data = pd.read_csv(\"/content/data.csv\")"
      ],
      "metadata": {
        "id": "8ERkl_tnU90G"
      },
      "execution_count": 2,
      "outputs": []
    },
    {
      "cell_type": "code",
      "source": [
        "# Extracting the change in blood pressure\n",
        "change_in_pressure = data[' Blood Pressure After (mmHg)'] - data[' Blood Pressure Before (mmHg)']\n",
        "\n",
        "# Performing Shapiro-Wilk test for normality\n",
        "statistic, p_value = shapiro(change_in_pressure)\n",
        "\n",
        "# Printing the test results\n",
        "print(\"Shapiro-Wilk Test\")\n",
        "print(\"Test Statistic:\", statistic)\n",
        "print(\"p-value:\", p_value)\n",
        "\n",
        "# Checking if p-value is less than the significance level (e.g., 0.05) to reject the null hypothesis\n",
        "alpha = 0.05\n",
        "if p_value < alpha:\n",
        "    print(\"The change in blood pressure does not follow a normal distribution.\")\n",
        "else:\n",
        "    print(\"The change in blood pressure follows a normal distribution.\")\n"
      ],
      "metadata": {
        "colab": {
          "base_uri": "https://localhost:8080/"
        },
        "id": "RsO7tduydgN8",
        "outputId": "171a344c-aebc-41ea-85cf-ee726432f112"
      },
      "execution_count": 3,
      "outputs": [
        {
          "output_type": "stream",
          "name": "stdout",
          "text": [
            "Shapiro-Wilk Test\n",
            "Test Statistic: 0.9538203477859497\n",
            "p-value: 0.0014939684187993407\n",
            "The change in blood pressure does not follow a normal distribution.\n"
          ]
        }
      ]
    },
    {
      "cell_type": "markdown",
      "source": [
        "Based on the Shapiro-Wilk test results with a significant p-value, we reject the null hypothesis. This indicates that the change in blood pressure in the clinical trial dataset does not follow a normal distribution. Therefore, the assumption of a normal distribution for the change in blood pressure cannot be considered valid.\n",
        "\n",
        "In the context of the pharmaceutical company's study, this suggests that the change in blood pressure after taking the drug may not have a symmetrical and bell-shaped distribution.\n"
      ],
      "metadata": {
        "id": "zdxvdoqdd2bB"
      }
    }
  ]
}