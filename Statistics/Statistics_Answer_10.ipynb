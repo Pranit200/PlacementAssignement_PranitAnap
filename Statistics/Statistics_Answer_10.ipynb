{
  "nbformat": 4,
  "nbformat_minor": 0,
  "metadata": {
    "colab": {
      "provenance": []
    },
    "kernelspec": {
      "name": "python3",
      "display_name": "Python 3"
    },
    "language_info": {
      "name": "python"
    }
  },
  "cells": [
    {
      "cell_type": "markdown",
      "source": [
        "# Statistics\n",
        "\n",
        "## Answer 10"
      ],
      "metadata": {
        "id": "gzaGif49lpcH"
      }
    },
    {
      "cell_type": "code",
      "source": [
        "import pandas as pd\n",
        "import numpy as np\n",
        "from scipy.stats import f_oneway"
      ],
      "metadata": {
        "id": "JOhwqVXmMkZg"
      },
      "execution_count": 10,
      "outputs": []
    },
    {
      "cell_type": "markdown",
      "source": [
        "Let , \n",
        "n = total number of bulbs in the batch = 500\n",
        "\n",
        "p = probability of a bulb being defective = 0.05\n",
        "\n",
        "q = probability of a bulb not being defective = 1 - p = 1 - 0.05 = 0.95\n",
        "\n",
        "a. Probability of exactly 20 bulbs being defective: P(X = 20) = C(n, x) * p^x * q^(n-x) where C(n, x) represents the binomial coefficient (n choose x)\n",
        "\n",
        "Using the formula: P(X = 20) = C(500, 20) * (0.05)^20 * (0.95)^(500-20)\n",
        "\n",
        "b. Probability of at least 10 bulbs being defective: P(X >= 10) = 1 - P(X < 10) To find P(X < 10), we can calculate the cumulative probability of X from 0 to 9 (inclusive) and subtract it from 1.\n",
        "\n",
        "c. Probability that at most 15 bulbs are defective: P(X <= 15) = P(X < 16) To find P(X < 16), we can calculate the cumulative probability of X from 0 to 15 (inclusive).\n",
        "\n",
        "d. Average number of defective bulbs: The average (expected) number of defective bulbs can be calculated using the formula: E(X) = n * p"
      ],
      "metadata": {
        "id": "HjVNG96xhJUi"
      }
    },
    {
      "cell_type": "code",
      "source": [
        "from scipy.stats import binom\n",
        "\n",
        "n = 500\n",
        "p = 0.05\n",
        "q = 1 - p\n",
        "\n",
        "# a. Probability of exactly 20 bulbs being defective\n",
        "x1 = 20\n",
        "p1 = binom.pmf(x1, n, p)\n",
        "\n",
        "# b. Probability of at least 10 bulbs being defective\n",
        "x2 = 9  # Calculate cumulative probability up to X = 9\n",
        "p2 = 1 - binom.cdf(x2, n, p)\n",
        "\n",
        "# c. Probability that at most 15 bulbs are defective\n",
        "x3 = 15  # Calculate cumulative probability up to X = 15\n",
        "p3 = binom.cdf(x3, n, p)\n",
        "\n",
        "# d. Average number of defective bulbs\n",
        "avg_defective = n * p\n",
        "\n",
        "# Print the results\n",
        "print(\"a. Probability of exactly 20 bulbs being defective:\", p1)\n",
        "print(\"b. Probability of at least 10 bulbs being defective:\", p2)\n",
        "print(\"c. Probability that at most 15 bulbs are defective:\", p3)\n",
        "print(\"d. Average number of defective bulbs:\", avg_defective)"
      ],
      "metadata": {
        "colab": {
          "base_uri": "https://localhost:8080/"
        },
        "id": "zAd_QYRjgviV",
        "outputId": "f3bee14a-7a69-4131-c2b3-961abb1d9dde"
      },
      "execution_count": 14,
      "outputs": [
        {
          "output_type": "stream",
          "name": "stdout",
          "text": [
            "a. Probability of exactly 20 bulbs being defective: 0.051616192536641056\n",
            "b. Probability of at least 10 bulbs being defective: 0.9998316463654902\n",
            "c. Probability that at most 15 bulbs are defective: 0.01985837716300623\n",
            "d. Average number of defective bulbs: 25.0\n"
          ]
        }
      ]
    }
  ]
}