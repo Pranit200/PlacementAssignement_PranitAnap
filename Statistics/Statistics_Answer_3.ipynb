{
  "nbformat": 4,
  "nbformat_minor": 0,
  "metadata": {
    "colab": {
      "provenance": []
    },
    "kernelspec": {
      "name": "python3",
      "display_name": "Python 3"
    },
    "language_info": {
      "name": "python"
    }
  },
  "cells": [
    {
      "cell_type": "markdown",
      "source": [
        "# Statistics\n",
        "\n",
        "## Answer 3"
      ],
      "metadata": {
        "id": "gzaGif49lpcH"
      }
    },
    {
      "cell_type": "code",
      "source": [
        "import pandas as pd\n",
        "import numpy as np\n",
        "import scipy.stats as stats\n",
        "import matplotlib.pyplot as plt"
      ],
      "metadata": {
        "id": "JOhwqVXmMkZg"
      },
      "execution_count": 34,
      "outputs": []
    },
    {
      "cell_type": "code",
      "source": [
        "df = pd.read_csv('/content/data.csv')\n",
        "df"
      ],
      "metadata": {
        "colab": {
          "base_uri": "https://localhost:8080/",
          "height": 424
        },
        "id": "cdnM_AqpN8oU",
        "outputId": "21c55da4-a359-4333-d5ee-485896cc010a"
      },
      "execution_count": 35,
      "outputs": [
        {
          "output_type": "execute_result",
          "data": {
            "text/plain": [
              "    Patient ID   Blood Pressure Before (mmHg)   Blood Pressure After (mmHg)\n",
              "0            1                            130                           120\n",
              "1            2                            142                           135\n",
              "2            3                            120                           118\n",
              "3            4                            135                           127\n",
              "4            5                            148                           140\n",
              "..         ...                            ...                           ...\n",
              "95          96                            136                           129\n",
              "96          97                            143                           137\n",
              "97          98                            127                           123\n",
              "98          99                            139                           135\n",
              "99         100                            135                           130\n",
              "\n",
              "[100 rows x 3 columns]"
            ],
            "text/html": [
              "\n",
              "  <div id=\"df-1eff646a-a8ac-42f9-8784-f9bc791537b3\">\n",
              "    <div class=\"colab-df-container\">\n",
              "      <div>\n",
              "<style scoped>\n",
              "    .dataframe tbody tr th:only-of-type {\n",
              "        vertical-align: middle;\n",
              "    }\n",
              "\n",
              "    .dataframe tbody tr th {\n",
              "        vertical-align: top;\n",
              "    }\n",
              "\n",
              "    .dataframe thead th {\n",
              "        text-align: right;\n",
              "    }\n",
              "</style>\n",
              "<table border=\"1\" class=\"dataframe\">\n",
              "  <thead>\n",
              "    <tr style=\"text-align: right;\">\n",
              "      <th></th>\n",
              "      <th>Patient ID</th>\n",
              "      <th>Blood Pressure Before (mmHg)</th>\n",
              "      <th>Blood Pressure After (mmHg)</th>\n",
              "    </tr>\n",
              "  </thead>\n",
              "  <tbody>\n",
              "    <tr>\n",
              "      <th>0</th>\n",
              "      <td>1</td>\n",
              "      <td>130</td>\n",
              "      <td>120</td>\n",
              "    </tr>\n",
              "    <tr>\n",
              "      <th>1</th>\n",
              "      <td>2</td>\n",
              "      <td>142</td>\n",
              "      <td>135</td>\n",
              "    </tr>\n",
              "    <tr>\n",
              "      <th>2</th>\n",
              "      <td>3</td>\n",
              "      <td>120</td>\n",
              "      <td>118</td>\n",
              "    </tr>\n",
              "    <tr>\n",
              "      <th>3</th>\n",
              "      <td>4</td>\n",
              "      <td>135</td>\n",
              "      <td>127</td>\n",
              "    </tr>\n",
              "    <tr>\n",
              "      <th>4</th>\n",
              "      <td>5</td>\n",
              "      <td>148</td>\n",
              "      <td>140</td>\n",
              "    </tr>\n",
              "    <tr>\n",
              "      <th>...</th>\n",
              "      <td>...</td>\n",
              "      <td>...</td>\n",
              "      <td>...</td>\n",
              "    </tr>\n",
              "    <tr>\n",
              "      <th>95</th>\n",
              "      <td>96</td>\n",
              "      <td>136</td>\n",
              "      <td>129</td>\n",
              "    </tr>\n",
              "    <tr>\n",
              "      <th>96</th>\n",
              "      <td>97</td>\n",
              "      <td>143</td>\n",
              "      <td>137</td>\n",
              "    </tr>\n",
              "    <tr>\n",
              "      <th>97</th>\n",
              "      <td>98</td>\n",
              "      <td>127</td>\n",
              "      <td>123</td>\n",
              "    </tr>\n",
              "    <tr>\n",
              "      <th>98</th>\n",
              "      <td>99</td>\n",
              "      <td>139</td>\n",
              "      <td>135</td>\n",
              "    </tr>\n",
              "    <tr>\n",
              "      <th>99</th>\n",
              "      <td>100</td>\n",
              "      <td>135</td>\n",
              "      <td>130</td>\n",
              "    </tr>\n",
              "  </tbody>\n",
              "</table>\n",
              "<p>100 rows × 3 columns</p>\n",
              "</div>\n",
              "      <button class=\"colab-df-convert\" onclick=\"convertToInteractive('df-1eff646a-a8ac-42f9-8784-f9bc791537b3')\"\n",
              "              title=\"Convert this dataframe to an interactive table.\"\n",
              "              style=\"display:none;\">\n",
              "        \n",
              "  <svg xmlns=\"http://www.w3.org/2000/svg\" height=\"24px\"viewBox=\"0 0 24 24\"\n",
              "       width=\"24px\">\n",
              "    <path d=\"M0 0h24v24H0V0z\" fill=\"none\"/>\n",
              "    <path d=\"M18.56 5.44l.94 2.06.94-2.06 2.06-.94-2.06-.94-.94-2.06-.94 2.06-2.06.94zm-11 1L8.5 8.5l.94-2.06 2.06-.94-2.06-.94L8.5 2.5l-.94 2.06-2.06.94zm10 10l.94 2.06.94-2.06 2.06-.94-2.06-.94-.94-2.06-.94 2.06-2.06.94z\"/><path d=\"M17.41 7.96l-1.37-1.37c-.4-.4-.92-.59-1.43-.59-.52 0-1.04.2-1.43.59L10.3 9.45l-7.72 7.72c-.78.78-.78 2.05 0 2.83L4 21.41c.39.39.9.59 1.41.59.51 0 1.02-.2 1.41-.59l7.78-7.78 2.81-2.81c.8-.78.8-2.07 0-2.86zM5.41 20L4 18.59l7.72-7.72 1.47 1.35L5.41 20z\"/>\n",
              "  </svg>\n",
              "      </button>\n",
              "      \n",
              "  <style>\n",
              "    .colab-df-container {\n",
              "      display:flex;\n",
              "      flex-wrap:wrap;\n",
              "      gap: 12px;\n",
              "    }\n",
              "\n",
              "    .colab-df-convert {\n",
              "      background-color: #E8F0FE;\n",
              "      border: none;\n",
              "      border-radius: 50%;\n",
              "      cursor: pointer;\n",
              "      display: none;\n",
              "      fill: #1967D2;\n",
              "      height: 32px;\n",
              "      padding: 0 0 0 0;\n",
              "      width: 32px;\n",
              "    }\n",
              "\n",
              "    .colab-df-convert:hover {\n",
              "      background-color: #E2EBFA;\n",
              "      box-shadow: 0px 1px 2px rgba(60, 64, 67, 0.3), 0px 1px 3px 1px rgba(60, 64, 67, 0.15);\n",
              "      fill: #174EA6;\n",
              "    }\n",
              "\n",
              "    [theme=dark] .colab-df-convert {\n",
              "      background-color: #3B4455;\n",
              "      fill: #D2E3FC;\n",
              "    }\n",
              "\n",
              "    [theme=dark] .colab-df-convert:hover {\n",
              "      background-color: #434B5C;\n",
              "      box-shadow: 0px 1px 3px 1px rgba(0, 0, 0, 0.15);\n",
              "      filter: drop-shadow(0px 1px 2px rgba(0, 0, 0, 0.3));\n",
              "      fill: #FFFFFF;\n",
              "    }\n",
              "  </style>\n",
              "\n",
              "      <script>\n",
              "        const buttonEl =\n",
              "          document.querySelector('#df-1eff646a-a8ac-42f9-8784-f9bc791537b3 button.colab-df-convert');\n",
              "        buttonEl.style.display =\n",
              "          google.colab.kernel.accessAllowed ? 'block' : 'none';\n",
              "\n",
              "        async function convertToInteractive(key) {\n",
              "          const element = document.querySelector('#df-1eff646a-a8ac-42f9-8784-f9bc791537b3');\n",
              "          const dataTable =\n",
              "            await google.colab.kernel.invokeFunction('convertToInteractive',\n",
              "                                                     [key], {});\n",
              "          if (!dataTable) return;\n",
              "\n",
              "          const docLinkHtml = 'Like what you see? Visit the ' +\n",
              "            '<a target=\"_blank\" href=https://colab.research.google.com/notebooks/data_table.ipynb>data table notebook</a>'\n",
              "            + ' to learn more about interactive tables.';\n",
              "          element.innerHTML = '';\n",
              "          dataTable['output_type'] = 'display_data';\n",
              "          await google.colab.output.renderOutput(dataTable, element);\n",
              "          const docLink = document.createElement('div');\n",
              "          docLink.innerHTML = docLinkHtml;\n",
              "          element.appendChild(docLink);\n",
              "        }\n",
              "      </script>\n",
              "    </div>\n",
              "  </div>\n",
              "  "
            ]
          },
          "metadata": {},
          "execution_count": 35
        }
      ]
    },
    {
      "cell_type": "markdown",
      "source": [
        "#a. Measure the dispersion in both and interpret the results.\n"
      ],
      "metadata": {
        "id": "XQlM6_aoOsKU"
      }
    },
    {
      "cell_type": "code",
      "source": [
        "bp_before = df[' Blood Pressure Before (mmHg)']\n",
        "bp_after = df[' Blood Pressure After (mmHg)']\n",
        "dispersion_before = np.var(bp_before)\n",
        "dispersion_after = np.var(bp_after)\n",
        "print(\"Dispersion in Blood Pressure Before: {:.4}\".format(dispersion_before))\n",
        "print(\"Dispersion in Blood Pressure After: {:.4}\".format(dispersion_after))"
      ],
      "metadata": {
        "colab": {
          "base_uri": "https://localhost:8080/"
        },
        "id": "UR4r0yTNPLbX",
        "outputId": "faa720a9-8fa4-434d-a896-091428a90039"
      },
      "execution_count": 39,
      "outputs": [
        {
          "output_type": "stream",
          "name": "stdout",
          "text": [
            "Dispersion in Blood Pressure Before: 43.1\n",
            "Dispersion in Blood Pressure After: 46.97\n"
          ]
        }
      ]
    },
    {
      "cell_type": "markdown",
      "source": [
        "\n",
        "# b. Calculate mean and 5% confidence interval and plot it in a graph\n"
      ],
      "metadata": {
        "id": "xe7P87gSOs7v"
      }
    },
    {
      "cell_type": "code",
      "source": [
        "mean_before = np.mean(bp_before)\n",
        "mean_after = np.mean(bp_after)\n",
        "mrgin_of_error = df[' Blood Pressure After (mmHg)'].sem() * 1.96 \n",
        "confidence_interval = stats.t.interval(0.95, len(df)-1, loc=mean_after, scale=stats.sem(mean_after))\n",
        "\n",
        "print(\"Mean of Blood Pressure After:\", mean_after)\n",
        "print(\"5% Confidence Interval of Blood Pressure After:\", confidence_interval)"
      ],
      "metadata": {
        "colab": {
          "base_uri": "https://localhost:8080/"
        },
        "id": "UVp0y1O_PMXR",
        "outputId": "94a41fe3-7122-4f56-9dc4-b55a56b4e099"
      },
      "execution_count": 51,
      "outputs": [
        {
          "output_type": "stream",
          "name": "stdout",
          "text": [
            "Mean of Blood Pressure After: 128.36\n",
            "5% Confidence Interval of Blood Pressure After: (nan, nan)\n"
          ]
        },
        {
          "output_type": "stream",
          "name": "stderr",
          "text": [
            "/usr/local/lib/python3.10/dist-packages/numpy/core/_methods.py:264: RuntimeWarning: Degrees of freedom <= 0 for slice\n",
            "  ret = _var(a, axis=axis, dtype=dtype, out=out, ddof=ddof,\n",
            "/usr/local/lib/python3.10/dist-packages/numpy/core/_methods.py:256: RuntimeWarning: invalid value encountered in double_scalars\n",
            "  ret = ret.dtype.type(ret / rcount)\n"
          ]
        }
      ]
    },
    {
      "cell_type": "code",
      "source": [
        "import seaborn as sns\n",
        "plt.figure(figsize=(8, 6))\n",
        "sns.barplot(x='Patient ID', y=' Blood Pressure After (mmHg)', data=df, ci='sd')\n",
        "plt.axhline(y=mean_after, color='red', linestyle='--', label='Mean')\n",
        "plt.fill_between([0, len(df)], mean_after - mrgin_of_error, mean_after + mrgin_of_error,\n",
        "                 color='gray', alpha=0.3, label='Confidence Interval')\n",
        "plt.legend()\n",
        "plt.xlabel('Patient ID')\n",
        "plt.ylabel('Blood Pressure After (mmHg)')\n",
        "plt.title('Mean and Confidence Interval of Blood Pressure')\n",
        "plt.show()\n"
      ],
      "metadata": {
        "colab": {
          "base_uri": "https://localhost:8080/",
          "height": 651
        },
        "id": "QkfddZIUS6yu",
        "outputId": "befbb3f5-4058-4e51-ec4b-ccb168dcdc08"
      },
      "execution_count": 53,
      "outputs": [
        {
          "output_type": "stream",
          "name": "stderr",
          "text": [
            "<ipython-input-53-abb60f8cf32a>:3: FutureWarning: \n",
            "\n",
            "The `ci` parameter is deprecated. Use `errorbar='sd'` for the same effect.\n",
            "\n",
            "  sns.barplot(x='Patient ID', y=' Blood Pressure After (mmHg)', data=df, ci='sd')\n"
          ]
        },
        {
          "output_type": "display_data",
          "data": {
            "text/plain": [
              "<Figure size 800x600 with 1 Axes>"
            ],
            "image/png": "[encoded data removed]"
          },
          "metadata": {}
        }
      ]
    },
    {
      "cell_type": "code",
      "source": [
        "# Plotting the mean and confidence interval\n",
        "plt.errorbar(x=1, y=mean_before, yerr=(confidence_interval[1] - mean_before), fmt='o', label='Mean')\n",
        "plt.axhline(mean_before, color='r', linestyle='--')\n",
        "plt.xticks([], [])\n",
        "plt.ylabel('Blood Pressure Before (mmHg)')\n",
        "plt.legend()\n",
        "plt.show()"
      ],
      "metadata": {
        "colab": {
          "base_uri": "https://localhost:8080/",
          "height": 411
        },
        "id": "5M4HI7XGQakh",
        "outputId": "8641503c-d020-42d4-8d71-402b18d0d19b"
      },
      "execution_count": 41,
      "outputs": [
        {
          "output_type": "display_data",
          "data": {
            "text/plain": [
              "<Figure size 640x480 with 1 Axes>"
            ],
            "image/png": "[encoded data removed]"
          },
          "metadata": {}
        }
      ]
    },
    {
      "cell_type": "markdown",
      "source": [
        "# c. Calculate the Mean absolute deviation and Standard deviation and interpret the results."
      ],
      "metadata": {
        "id": "HzcantWrOtEW"
      }
    },
    {
      "cell_type": "code",
      "source": [
        "mad_before = np.mean(np.abs(bp_before - np.mean(bp_before)))\n",
        "mad_after = np.mean(np.abs(bp_after - np.mean(bp_after)))\n",
        "std_dev_before = np.std(bp_before)\n",
        "std_dev_after = np.std(bp_after)\n",
        "print(\"Mean Absolute Deviation of Blood Pressure Before:\", mad_before)\n",
        "print(\"Mean Absolute Deviation of Blood Pressure After:\", mad_after)\n",
        "print(\"Standard Deviation of Blood Pressure Before:\", std_dev_before)\n",
        "print(\"Standard Deviation of Blood Pressure After:\", std_dev_after)"
      ],
      "metadata": {
        "colab": {
          "base_uri": "https://localhost:8080/"
        },
        "id": "ro02k0c7PNSO",
        "outputId": "38f1fbcd-8a63-4350-d805-69fb239ef020"
      },
      "execution_count": 54,
      "outputs": [
        {
          "output_type": "stream",
          "name": "stdout",
          "text": [
            "Mean Absolute Deviation of Blood Pressure Before: 5.7118\n",
            "Mean Absolute Deviation of Blood Pressure After: 5.9\n",
            "Standard Deviation of Blood Pressure Before: 6.56520372875054\n",
            "Standard Deviation of Blood Pressure After: 6.853495458523336\n"
          ]
        }
      ]
    },
    {
      "cell_type": "markdown",
      "source": [
        "# d. Calculate the correlation coefficient and check the significance of it at 1% level of significance."
      ],
      "metadata": {
        "id": "1OHKyXK5OtSJ"
      }
    },
    {
      "cell_type": "code",
      "source": [
        "correlation_coef, p_value = stats.pearsonr(bp_before, bp_after)\n",
        "print(\"Correlation Coefficient:\", correlation_coef)\n",
        "print(\"p-value:\", p_value)\n",
        "if p_value < 0.01:\n",
        "    print(\"Correlation is significant at 1% level of significance.\")\n",
        "else:\n",
        "    print(\"Correlation is not significant at 1% level of significance.\")"
      ],
      "metadata": {
        "colab": {
          "base_uri": "https://localhost:8080/"
        },
        "id": "3s91yAi5N8yh",
        "outputId": "4d9aea8d-ff89-4af3-f99e-0637faa052cc"
      },
      "execution_count": 55,
      "outputs": [
        {
          "output_type": "stream",
          "name": "stdout",
          "text": [
            "Correlation Coefficient: 0.9779485966556017\n",
            "p-value: 1.8097381433068578e-68\n",
            "Correlation is significant at 1% level of significance.\n"
          ]
        }
      ]
    }
  ]
}