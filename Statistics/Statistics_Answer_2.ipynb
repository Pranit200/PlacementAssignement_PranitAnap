{
  "nbformat": 4,
  "nbformat_minor": 0,
  "metadata": {
    "colab": {
      "provenance": []
    },
    "kernelspec": {
      "name": "python3",
      "display_name": "Python 3"
    },
    "language_info": {
      "name": "python"
    }
  },
  "cells": [
    {
      "cell_type": "markdown",
      "source": [
        "# Statistics\n",
        "\n",
        "## Answer 2"
      ],
      "metadata": {
        "id": "gzaGif49lpcH"
      }
    },
    {
      "cell_type": "markdown",
      "source": [
        "## a. What percentage of individuals in the dataset have heights between 160 cm\n",
        "and 180 cm?\n",
        "> To calculate the percentage of individuals with heights between 160 cm and 180 cm, we can use the cumulative distribution function (CDF) of the normal distribution."
      ],
      "metadata": {
        "id": "9RwAukKkDvg8"
      }
    },
    {
      "cell_type": "code",
      "source": [
        "import scipy.stats as stats\n",
        "# Given information\n",
        "mean = 170\n",
        "std_dev = 10\n",
        "\n",
        "x1 = (160 - mean) / std_dev\n",
        "x2 = (180 - mean) / std_dev\n",
        "percentage = (stats.norm.cdf(x2) - stats.norm.cdf(x1)) * 100\n",
        "print(\"Percentage of individuals with heights between 160 cm and 180 cm : {:.2f} %\".format(percentage))"
      ],
      "metadata": {
        "colab": {
          "base_uri": "https://localhost:8080/"
        },
        "id": "0vSoA-WxDmIL",
        "outputId": "4256e170-ac42-4e27-9700-8935fc255b4e"
      },
      "execution_count": 9,
      "outputs": [
        {
          "output_type": "stream",
          "name": "stdout",
          "text": [
            "Percentage of individuals with heights between 160 cm and 180 cm : 68.27 %\n"
          ]
        }
      ]
    },
    {
      "cell_type": "markdown",
      "source": [
        "b. If we randomly select 100 individuals from the dataset, what is the probability that their average height is greater than 175 cm?\n",
        "> To calculate the probability that the average height of 100 randomly selected individuals is greater than 175 cm, we can use the Central Limit Theorem. According to the Central Limit Theorem, the distribution of sample means approaches a normal distribution as the sample size increases, even if the population is not normally distributed."
      ],
      "metadata": {
        "id": "1LMyHrieD6l-"
      }
    },
    {
      "cell_type": "code",
      "source": [
        "sample_size = 100\n",
        "standard_error = std_dev / (sample_size ** 0.5)\n",
        "z = (175 - mean) / standard_error\n",
        "probability = 1 - stats.norm.cdf(z)\n",
        "print(\"Probability that the average height of 100 individuals is greater than 175 cm: \",probability)"
      ],
      "metadata": {
        "colab": {
          "base_uri": "https://localhost:8080/"
        },
        "id": "tuA6zxBDEAdi",
        "outputId": "e853b70b-9b4f-4887-83e7-6d1d298b5921"
      },
      "execution_count": 18,
      "outputs": [
        {
          "output_type": "stream",
          "name": "stdout",
          "text": [
            "Probability that the average height of 100 individuals is greater than 175 cm:  2.866515719235352e-07\n"
          ]
        }
      ]
    },
    {
      "cell_type": "markdown",
      "source": [
        "c. Assuming the dataset follows a normal distribution, what is the z-score\n",
        "corresponding to a height of 185 cm?"
      ],
      "metadata": {
        "id": "DT0Vz5j_EAtx"
      }
    },
    {
      "cell_type": "code",
      "source": [
        "x = 185\n",
        "z = (x - mean) / std_dev\n",
        "print(\"Z-score corresponding to a height of 185 cm:\", z)"
      ],
      "metadata": {
        "colab": {
          "base_uri": "https://localhost:8080/"
        },
        "id": "hZOds1ktEEeT",
        "outputId": "90145c81-9102-4825-a96c-93a5cce64e3f"
      },
      "execution_count": 19,
      "outputs": [
        {
          "output_type": "stream",
          "name": "stdout",
          "text": [
            "Z-score corresponding to a height of 185 cm: 1.5\n"
          ]
        }
      ]
    },
    {
      "cell_type": "markdown",
      "source": [
        "d. We know that 5% of the dataset has heights below a certain value. What is\n",
        "the approximate height corresponding to this threshold?\n",
        "> Using the inverse CDF (also known as the percent-point function or quantile function) of the normal distribution, we can find the height corresponding to the probability of 0.05."
      ],
      "metadata": {
        "id": "JnqHMB0FEEzQ"
      }
    },
    {
      "cell_type": "code",
      "source": [
        "threshold = stats.norm.ppf(0.05) * std_dev + mean\n",
        "print(\"Approximate height corresponding to 5% threshold: {}\".format(threshold))"
      ],
      "metadata": {
        "colab": {
          "base_uri": "https://localhost:8080/"
        },
        "id": "Lit7Mvv0EJdq",
        "outputId": "d32bbae5-922c-406e-8363-a6d872720154"
      },
      "execution_count": 31,
      "outputs": [
        {
          "output_type": "stream",
          "name": "stdout",
          "text": [
            "Approximate height corresponding to 5% threshold: 153.55146373048527\n"
          ]
        }
      ]
    },
    {
      "cell_type": "markdown",
      "source": [
        "e. Calculate the coefficient of variation (CV) for the dataset.\n",
        "> The coefficient of variation (CV) is a measure of relative variability and is calculated as the ratio of the standard deviation to the mean. It provides a standardized measure of dispersion relative to the mean."
      ],
      "metadata": {
        "id": "nosM9xBwEJsd"
      }
    },
    {
      "cell_type": "code",
      "source": [
        "cv = (std_dev / mean) * 100\n",
        "print(\"e. Coefficient of variation (CV):\", cv)"
      ],
      "metadata": {
        "colab": {
          "base_uri": "https://localhost:8080/"
        },
        "id": "9XtReQlkENoT",
        "outputId": "e2577cbb-c822-4980-95ec-24325e871d32"
      },
      "execution_count": 21,
      "outputs": [
        {
          "output_type": "stream",
          "name": "stdout",
          "text": [
            "e. Coefficient of variation (CV): 5.88235294117647\n"
          ]
        }
      ]
    },
    {
      "cell_type": "markdown",
      "source": [
        "\n",
        "f. Calculate the skewness of the dataset and interpret the result.\n",
        "> Skewness is a measure of the asymmetry of a distribution. It indicates whether the dataset is skewed to the left or right.\n",
        "\n",
        "> To calculate the skewness of the dataset, we can use the skewness formula."
      ],
      "metadata": {
        "id": "uz_nGoxqEN1G"
      }
    },
    {
      "cell_type": "code",
      "source": [
        "skewness = 0  # Since the skewness is given as approximately zero\n",
        "print(\"Skewness of the dataset:\", skewness)"
      ],
      "metadata": {
        "colab": {
          "base_uri": "https://localhost:8080/"
        },
        "id": "YBf7FgRZLf0P",
        "outputId": "c109f14d-279d-4970-e8b9-68d2180f4556"
      },
      "execution_count": 33,
      "outputs": [
        {
          "output_type": "stream",
          "name": "stdout",
          "text": [
            "Skewness of the dataset: 0\n"
          ]
        }
      ]
    }
  ]
}